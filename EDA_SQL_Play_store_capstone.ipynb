{
  "nbformat": 4,
  "nbformat_minor": 0,
  "metadata": {
    "colab": {
      "private_outputs": true,
      "provenance": [],
      "collapsed_sections": [
        "H0kj-8xxnORC",
        "gIfDvo9L0UH2"
      ],
      "include_colab_link": true
    },
    "kernelspec": {
      "name": "python3",
      "display_name": "Python 3"
    },
    "language_info": {
      "name": "python"
    }
  },
  "cells": [
    {
      "cell_type": "markdown",
      "metadata": {
        "id": "view-in-github",
        "colab_type": "text"
      },
      "source": [
        "<a href=\"https://colab.research.google.com/github/hari6858/Play_Store_Analysis/blob/main/EDA_SQL_Play_store_capstone.ipynb\" target=\"_parent\"><img src=\"https://colab.research.google.com/assets/colab-badge.svg\" alt=\"Open In Colab\"/></a>"
      ]
    },
    {
      "cell_type": "markdown",
      "source": [
        "# **Project Name**    -\n",
        "\n"
      ],
      "metadata": {
        "id": "vncDsAP0Gaoa"
      }
    },
    {
      "cell_type": "markdown",
      "source": [
        "##### **Project Type**    - EDA\n",
        "##### **Contribution**    - Individual\n",
        "##### **Team Member 1 -** Harikash P\n"
      ],
      "metadata": {
        "id": "beRrZCGUAJYm"
      }
    },
    {
      "cell_type": "markdown",
      "source": [
        "# **Project Summary -**"
      ],
      "metadata": {
        "id": "FJNUwmbgGyua"
      }
    },
    {
      "cell_type": "markdown",
      "source": [
        "Write the summary here within 500-600 words."
      ],
      "metadata": {
        "id": "F6v_1wHtG2nS"
      }
    },
    {
      "cell_type": "markdown",
      "source": [
        "This project performs an exploratory data analysis of a dataset of Google Play Store apps.  The goal is to understand the characteristics and trends of popular apps, identify factors that contribute to app success, and gain insights into the competitive landscape of the Google Play Store.\n"
      ],
      "metadata": {
        "id": "g9_O79qCFrD0"
      }
    },
    {
      "cell_type": "markdown",
      "source": [
        "# **GitHub Link -**"
      ],
      "metadata": {
        "id": "w6K7xa23Elo4"
      }
    },
    {
      "cell_type": "markdown",
      "source": [
        "Provide your GitHub Link here."
      ],
      "metadata": {
        "id": "h1o69JH3Eqqn"
      }
    },
    {
      "cell_type": "markdown",
      "source": [
        "https://github.com/hari6858/Play_Store_Analysis/blob/main/EDA_SQL_Play_store_capstone.ipynb"
      ],
      "metadata": {
        "id": "vpNXkOBiGdGe"
      }
    },
    {
      "cell_type": "markdown",
      "source": [
        "# **Problem Statement**\n"
      ],
      "metadata": {
        "id": "yQaldy8SH6Dl"
      }
    },
    {
      "cell_type": "markdown",
      "source": [
        "**Write Problem Statement Here.**"
      ],
      "metadata": {
        "id": "DpeJGUA3kjGy"
      }
    },
    {
      "cell_type": "markdown",
      "source": [
        "To understand the factors influencing app success on the Google Play Store by analyzing a dataset of app information, identify trends, and provide insights for developers and stakeholders to improve app performance and market competitiveness."
      ],
      "metadata": {
        "id": "rimo7iUPGCVV"
      }
    },
    {
      "cell_type": "markdown",
      "source": [
        "#### **Define Your Business Objective?**"
      ],
      "metadata": {
        "id": "PH-0ReGfmX4f"
      }
    },
    {
      "cell_type": "markdown",
      "source": [
        "Answer Here."
      ],
      "metadata": {
        "id": "PhDvGCAqmjP1"
      }
    },
    {
      "cell_type": "markdown",
      "source": [
        "To provide data-driven recommendations to app developers and stakeholders on the Google Play Store to improve app performance and market competitiveness.\n"
      ],
      "metadata": {
        "id": "CX8yLn1VGJVN"
      }
    },
    {
      "cell_type": "markdown",
      "source": [
        "# **General Guidelines** : -  "
      ],
      "metadata": {
        "id": "mDgbUHAGgjLW"
      }
    },
    {
      "cell_type": "markdown",
      "source": [
        "1.   Well-structured, formatted, and commented code is required.\n",
        "2.   Exception Handling, Production Grade Code & Deployment Ready Code will be a plus. Those students will be awarded some additional credits.\n",
        "     \n",
        "     The additional credits will have advantages over other students during Star Student selection.\n",
        "       \n",
        "             [ Note: - Deployment Ready Code is defined as, the whole .ipynb notebook should be executable in one go\n",
        "                       without a single error logged. ]\n",
        "\n",
        "3.   Each and every logic should have proper comments.\n",
        "4. You may add as many number of charts you want. Make Sure for each and every chart the following format should be answered.\n",
        "        \n",
        "\n",
        "```\n",
        "# Chart visualization code\n",
        "```\n",
        "            \n",
        "\n",
        "*   Why did you pick the specific chart?\n",
        "*   What is/are the insight(s) found from the chart?\n",
        "* Will the gained insights help creating a positive business impact?\n",
        "Are there any insights that lead to negative growth? Justify with specific reason.\n",
        "\n",
        "5. You have to create at least 20 logical & meaningful charts having important insights.\n",
        "\n",
        "\n",
        "[ Hints : - Do the Vizualization in  a structured way while following \"UBM\" Rule.\n",
        "\n",
        "U - Univariate Analysis,\n",
        "\n",
        "B - Bivariate Analysis (Numerical - Categorical, Numerical - Numerical, Categorical - Categorical)\n",
        "\n",
        "M - Multivariate Analysis\n",
        " ]\n",
        "\n",
        "\n",
        "\n"
      ],
      "metadata": {
        "id": "ZrxVaUj-hHfC"
      }
    },
    {
      "cell_type": "markdown",
      "source": [
        "# ***Let's Begin !***"
      ],
      "metadata": {
        "id": "O_i_v8NEhb9l"
      }
    },
    {
      "cell_type": "markdown",
      "source": [
        "## ***1. Know Your Data***"
      ],
      "metadata": {
        "id": "HhfV-JJviCcP"
      }
    },
    {
      "cell_type": "markdown",
      "source": [
        "### Import Libraries"
      ],
      "metadata": {
        "id": "Y3lxredqlCYt"
      }
    },
    {
      "cell_type": "code",
      "source": [
        "# Import Libraries\n",
        "import pandas as pd\n",
        "import sqlite3\n",
        "import matplotlib.pyplot as plt\n",
        "import seaborn as sns"
      ],
      "metadata": {
        "id": "M8Vqi-pPk-HR"
      },
      "execution_count": null,
      "outputs": []
    },
    {
      "cell_type": "markdown",
      "source": [
        "### Dataset Loading"
      ],
      "metadata": {
        "id": "3RnN4peoiCZX"
      }
    },
    {
      "cell_type": "code",
      "source": [
        "# Load Dataset\n",
        "from google.colab import drive\n",
        "drive.mount('/content/drive')"
      ],
      "metadata": {
        "id": "4CkvbW_SlZ_R"
      },
      "execution_count": null,
      "outputs": []
    },
    {
      "cell_type": "code",
      "source": [
        "df = pd.read_csv('/content/drive/MyDrive/Colab Notebooks/Project/Play Store Data.csv',encoding='unicode_escape')"
      ],
      "metadata": {
        "id": "QMh8EUimJBhy"
      },
      "execution_count": null,
      "outputs": []
    },
    {
      "cell_type": "code",
      "source": [
        "conn = sqlite3.connect('Play_store.db')\n",
        "df.to_sql('Play_store',conn,if_exists='replace',index=False)\n",
        "conn.close()"
      ],
      "metadata": {
        "id": "1KOBN-giipXt"
      },
      "execution_count": null,
      "outputs": []
    },
    {
      "cell_type": "code",
      "source": [
        "conn = sqlite3.connect('Play_store.db')\n",
        "conn.commit()\n",
        "user = pd.read_sql('select * from Play_store',conn)"
      ],
      "metadata": {
        "id": "1vtHIicNitWh"
      },
      "execution_count": null,
      "outputs": []
    },
    {
      "cell_type": "markdown",
      "source": [
        "### Dataset First View"
      ],
      "metadata": {
        "id": "x71ZqKXriCWQ"
      }
    },
    {
      "cell_type": "code",
      "source": [
        "# Dataset First Look\n",
        "pd.read_sql('''\n",
        "\n",
        "select * from Play_store\n",
        "\n",
        "  ''',conn)"
      ],
      "metadata": {
        "id": "LWNFOSvLl09H"
      },
      "execution_count": null,
      "outputs": []
    },
    {
      "cell_type": "markdown",
      "source": [
        "### Dataset Rows & Columns count"
      ],
      "metadata": {
        "id": "7hBIi_osiCS2"
      }
    },
    {
      "cell_type": "code",
      "source": [
        "# Dataset Rows & Columns count\n",
        "df.columns"
      ],
      "metadata": {
        "id": "Kllu7SJgmLij"
      },
      "execution_count": null,
      "outputs": []
    },
    {
      "cell_type": "code",
      "source": [
        "df.columns.shape"
      ],
      "metadata": {
        "id": "I_nRLd_jKauC"
      },
      "execution_count": null,
      "outputs": []
    },
    {
      "cell_type": "markdown",
      "source": [
        "### Dataset Information"
      ],
      "metadata": {
        "id": "JlHwYmJAmNHm"
      }
    },
    {
      "cell_type": "code",
      "source": [
        "# Dataset Info\n",
        "df.info()"
      ],
      "metadata": {
        "id": "e9hRXRi6meOf"
      },
      "execution_count": null,
      "outputs": []
    },
    {
      "cell_type": "markdown",
      "source": [
        "#### Duplicate Values"
      ],
      "metadata": {
        "id": "35m5QtbWiB9F"
      }
    },
    {
      "cell_type": "code",
      "source": [
        "# Dataset Duplicate Value Count"
      ],
      "metadata": {
        "id": "1sLdpKYkmox0"
      },
      "execution_count": null,
      "outputs": []
    },
    {
      "cell_type": "code",
      "source": [
        "df.duplicated().sum()"
      ],
      "metadata": {
        "id": "prSpwF8RoE6W"
      },
      "execution_count": null,
      "outputs": []
    },
    {
      "cell_type": "code",
      "source": [
        "df = df.drop_duplicates()"
      ],
      "metadata": {
        "id": "6zBlUxPNNGA9"
      },
      "execution_count": null,
      "outputs": []
    },
    {
      "cell_type": "code",
      "source": [
        "df.duplicated().sum()"
      ],
      "metadata": {
        "id": "I9rW6708NbAL"
      },
      "execution_count": null,
      "outputs": []
    },
    {
      "cell_type": "markdown",
      "source": [
        "#### Missing Values/Null Values"
      ],
      "metadata": {
        "id": "PoPl-ycgm1ru"
      }
    },
    {
      "cell_type": "code",
      "source": [
        "# Missing Values/Null Values Count\n",
        "pd.read_sql('''\n",
        "select * from Play_store\n",
        "where App is null\n",
        "\n",
        "  ''',conn)"
      ],
      "metadata": {
        "id": "GgHWkxvamxVg"
      },
      "execution_count": null,
      "outputs": []
    },
    {
      "cell_type": "code",
      "source": [
        "pd.read_sql('''\n",
        "select * from Play_store\n",
        "where Category is null\n",
        "\n",
        "  ''',conn)"
      ],
      "metadata": {
        "id": "5Jt101xhRmpR"
      },
      "execution_count": null,
      "outputs": []
    },
    {
      "cell_type": "code",
      "source": [
        "pd.read_sql('''\n",
        "select * from Play_store\n",
        "where Rating is null\n",
        "\n",
        "  ''',conn)"
      ],
      "metadata": {
        "id": "ZQgLlovSOBzc"
      },
      "execution_count": null,
      "outputs": []
    },
    {
      "cell_type": "code",
      "source": [
        "df.isnull().sum()"
      ],
      "metadata": {
        "id": "5l175lUaPByQ"
      },
      "execution_count": null,
      "outputs": []
    },
    {
      "cell_type": "code",
      "source": [
        "df.columns"
      ],
      "metadata": {
        "id": "KKgpd2jMPMSw"
      },
      "execution_count": null,
      "outputs": []
    },
    {
      "cell_type": "code",
      "source": [
        "df= df.dropna()"
      ],
      "metadata": {
        "id": "Fj7HdidtjJFU"
      },
      "execution_count": null,
      "outputs": []
    },
    {
      "cell_type": "code",
      "source": [
        "df.isnull().sum()"
      ],
      "metadata": {
        "id": "jSvF4nU7jPJl"
      },
      "execution_count": null,
      "outputs": []
    },
    {
      "cell_type": "code",
      "source": [
        "# Visualizing the missing values\n",
        "sns.heatmap(df.isnull())"
      ],
      "metadata": {
        "id": "3q5wnI3om9sJ"
      },
      "execution_count": null,
      "outputs": []
    },
    {
      "cell_type": "markdown",
      "source": [
        "### What did you know about your dataset?"
      ],
      "metadata": {
        "id": "H0kj-8xxnORC"
      }
    },
    {
      "cell_type": "markdown",
      "source": [
        "Answer Here"
      ],
      "metadata": {
        "id": "gfoNAAC-nUe_"
      }
    },
    {
      "cell_type": "markdown",
      "source": [
        "## ***2. Understanding Your Variables***"
      ],
      "metadata": {
        "id": "nA9Y7ga8ng1Z"
      }
    },
    {
      "cell_type": "code",
      "source": [
        "# Dataset Columns\n",
        "df.columns"
      ],
      "metadata": {
        "id": "j7xfkqrt5Ag5"
      },
      "execution_count": null,
      "outputs": []
    },
    {
      "cell_type": "code",
      "source": [
        "# Dataset Describe\n",
        "df.describe()"
      ],
      "metadata": {
        "id": "DnOaZdaE5Q5t"
      },
      "execution_count": null,
      "outputs": []
    },
    {
      "cell_type": "markdown",
      "source": [
        "### Variables Description"
      ],
      "metadata": {
        "id": "PBTbrJXOngz2"
      }
    },
    {
      "cell_type": "markdown",
      "source": [
        "Answer Here"
      ],
      "metadata": {
        "id": "aJV4KIxSnxay"
      }
    },
    {
      "cell_type": "code",
      "source": [
        "column_descriptions = {\n",
        "    'App': 'Name of the app.',\n",
        "    'Category': 'Category the app belongs to.',\n",
        "    'Rating': 'Overall user rating of the app (out of 5).',\n",
        "    'Reviews': 'Number of user reviews for the app.',\n",
        "    'Size': 'Size of the app.',\n",
        "    'Installs': 'Number of user downloads/installs for the app.',\n",
        "    'Type': 'Whether the app is free or paid.',\n",
        "    'Price': 'Price of the app (if paid).',\n",
        "    'Content Rating': 'Age group the app is targeted at.',\n",
        "    'Genres': 'Genres to which the app belongs.',\n",
        "    'Last Updated': 'Date when the app was last updated.',\n",
        "    'Current Ver': 'Current version of the app.',\n",
        "    'Android Ver': 'Minimum required Android version for the app.'\n",
        "}\n",
        "\n",
        "for column, description in column_descriptions.items():\n",
        "  print(f\"{column}: {description}\")"
      ],
      "metadata": {
        "id": "vb5IgY5Ykuzt"
      },
      "execution_count": null,
      "outputs": []
    },
    {
      "cell_type": "markdown",
      "source": [
        "### Check Unique Values for each variable."
      ],
      "metadata": {
        "id": "u3PMJOP6ngxN"
      }
    },
    {
      "cell_type": "code",
      "source": [
        "# Check Unique Values for each variable.\n",
        "\n",
        "pd.read_sql('''\n",
        "\n",
        "select count (distinct (App) )from Play_store\n",
        "  ''',conn)\n"
      ],
      "metadata": {
        "id": "zms12Yq5n-jE"
      },
      "execution_count": null,
      "outputs": []
    },
    {
      "cell_type": "code",
      "source": [
        "pd.read_sql('''\n",
        "\n",
        "select count (distinct (Category) )from Play_store\n",
        "  ''',conn)"
      ],
      "metadata": {
        "id": "IB8mvyOtR7aG"
      },
      "execution_count": null,
      "outputs": []
    },
    {
      "cell_type": "code",
      "source": [
        "pd.read_sql('''\n",
        "\n",
        "select count (distinct (Rating) )from Play_store\n",
        "  ''',conn)"
      ],
      "metadata": {
        "id": "eZnT_ha1TFOS"
      },
      "execution_count": null,
      "outputs": []
    },
    {
      "cell_type": "code",
      "source": [
        "pd.read_sql('''\n",
        "\n",
        "select count (distinct (Reviews) )from Play_store\n",
        "  ''',conn)"
      ],
      "metadata": {
        "id": "JwjHZYdGTNFh"
      },
      "execution_count": null,
      "outputs": []
    },
    {
      "cell_type": "code",
      "source": [
        "pd.read_sql('''\n",
        "\n",
        "select count (distinct (Size) )from Play_store\n",
        "  ''',conn)"
      ],
      "metadata": {
        "id": "jRJYsw6IT9hw"
      },
      "execution_count": null,
      "outputs": []
    },
    {
      "cell_type": "code",
      "source": [
        "# unique values using python\n",
        "\n",
        "df.nunique()"
      ],
      "metadata": {
        "id": "oOnO93AJUCO7"
      },
      "execution_count": null,
      "outputs": []
    },
    {
      "cell_type": "code",
      "source": [
        "df.nunique().sum()"
      ],
      "metadata": {
        "id": "nMJrDj9HUuFK"
      },
      "execution_count": null,
      "outputs": []
    },
    {
      "cell_type": "markdown",
      "source": [
        "## ***4. Data Vizualization, Storytelling & Experimenting with charts : Understand the relationships between variables***"
      ],
      "metadata": {
        "id": "GF8Ens_Soomf"
      }
    },
    {
      "cell_type": "markdown",
      "source": [
        "#### Chart - 1"
      ],
      "metadata": {
        "id": "0wOQAZs5pc--"
      }
    },
    {
      "cell_type": "code",
      "source": [
        "df.columns"
      ],
      "metadata": {
        "id": "mJP-1-qIX1Kg"
      },
      "execution_count": null,
      "outputs": []
    },
    {
      "cell_type": "code",
      "source": [
        "# Chart - 1 visualization code\n",
        "pd.read_sql('''\n",
        "select Category,count(*)  as AppCount from Play_store\n",
        "group by Category\n",
        "order by AppCount desc\n",
        "\n",
        "\n",
        "  ''',conn)\n"
      ],
      "metadata": {
        "id": "7v_ESjsspbW7"
      },
      "execution_count": null,
      "outputs": []
    },
    {
      "cell_type": "code",
      "source": [
        "plt.figure(figsize=(12, 6))\n",
        "sns.countplot(x='Category', data=df)\n",
        "plt.xticks(rotation=90)\n",
        "plt.title('Number of Apps per Category')\n",
        "plt.xlabel('Category')\n",
        "plt.ylabel('Number of Apps')\n",
        "plt.show()\n"
      ],
      "metadata": {
        "id": "crKMH6JaZvqS"
      },
      "execution_count": null,
      "outputs": []
    },
    {
      "cell_type": "markdown",
      "source": [
        "##### 1. Why did you pick the specific chart?"
      ],
      "metadata": {
        "id": "K5QZ13OEpz2H"
      }
    },
    {
      "cell_type": "markdown",
      "source": [
        "Answer Here."
      ],
      "metadata": {
        "id": "XESiWehPqBRc"
      }
    },
    {
      "cell_type": "markdown",
      "source": [
        "\n",
        "I picked the countplot to visualize the distribution of apps across different categories.  A countplot is ideal for showing the frequency of categorical data, which is precisely what we have with the 'Category' column.  It provides a clear view of which categories have the most and fewest apps, making it easy to identify dominant and underrepresented app types in the dataset."
      ],
      "metadata": {
        "id": "buL5L65Y25x8"
      }
    },
    {
      "cell_type": "markdown",
      "source": [
        "##### 2. What is/are the insight(s) found from the chart?"
      ],
      "metadata": {
        "id": "lQ7QKXXCp7Bj"
      }
    },
    {
      "cell_type": "markdown",
      "source": [
        "Answer Here"
      ],
      "metadata": {
        "id": "C_j1G7yiqdRP"
      }
    },
    {
      "cell_type": "markdown",
      "source": [
        "The chart shows the number of apps in each category in the Google Play Store dataset.  The categories with the highest number of apps are \"Family\", \"Game\", and \"Tools\".  There are several categories with a relatively low number of apps.  This gives an understanding of which categories are most represented in the dataset.  This distribution can be used to further investigate popularity and trends within the different categories.\n"
      ],
      "metadata": {
        "id": "imgvVTJj3BiW"
      }
    },
    {
      "cell_type": "markdown",
      "source": [
        "##### 3. Will the gained insights help creating a positive business impact?\n",
        "Are there any insights that lead to negative growth? Justify with specific reason."
      ],
      "metadata": {
        "id": "448CDAPjqfQr"
      }
    },
    {
      "cell_type": "markdown",
      "source": [
        "Answer Here"
      ],
      "metadata": {
        "id": "3cspy4FjqxJW"
      }
    },
    {
      "cell_type": "markdown",
      "source": [
        "\n",
        " Based on the provided chart, categories with a low number of apps might indicate potential negative growth areas.\n",
        " For example, if a category has very few apps and those apps have low ratings or few installs, it suggests a lack of user interest or market demand.\n",
        " This could indicate a potential area for negative growth as there is little to no traction in that specific app category within the market."
      ],
      "metadata": {
        "id": "oWFsL4jK3QXJ"
      }
    },
    {
      "cell_type": "markdown",
      "source": [
        "#### Chart - 2"
      ],
      "metadata": {
        "id": "KSlN3yHqYklG"
      }
    },
    {
      "cell_type": "code",
      "source": [
        "df.columns\n"
      ],
      "metadata": {
        "id": "X2rQx1_UnTNF"
      },
      "execution_count": null,
      "outputs": []
    },
    {
      "cell_type": "code",
      "source": [
        "# Chart - 2 visualization code\n",
        "pd.read_sql('''\n",
        "select Rating,count(*)  as App_Rating from Play_store\n",
        "group by Rating\n",
        "order by App_Rating desc\n",
        "\n",
        "\n",
        "  ''',conn)"
      ],
      "metadata": {
        "id": "R4YgtaqtYklH"
      },
      "execution_count": null,
      "outputs": []
    },
    {
      "cell_type": "code",
      "source": [
        "plt.figure(figsize=(12, 6))\n",
        "sns.countplot(x='Rating', data=df)\n",
        "plt.title('Number of Apps per Rating')\n",
        "plt.xlabel('Rating')\n",
        "plt.ylabel('Number of Apps')\n",
        "plt.show()"
      ],
      "metadata": {
        "id": "fgwb900MnRtS"
      },
      "execution_count": null,
      "outputs": []
    },
    {
      "cell_type": "markdown",
      "source": [
        "##### 1. Why did you pick the specific chart?"
      ],
      "metadata": {
        "id": "t6dVpIINYklI"
      }
    },
    {
      "cell_type": "markdown",
      "source": [
        "Answer Here."
      ],
      "metadata": {
        "id": "5aaW0BYyYklI"
      }
    },
    {
      "cell_type": "markdown",
      "source": [
        "I picked the countplot to visualize the distribution of app ratings. A countplot effectively displays the frequency of each rating value, providing a clear overview of how many apps receive each rating. This helps quickly identify the most common ratings and any unusual patterns in the rating distribution.\n"
      ],
      "metadata": {
        "id": "G9tNvk8p4I7F"
      }
    },
    {
      "cell_type": "markdown",
      "source": [
        "##### 2. What is/are the insight(s) found from the chart?"
      ],
      "metadata": {
        "id": "ijmpgYnKYklI"
      }
    },
    {
      "cell_type": "markdown",
      "source": [
        "Answer Here"
      ],
      "metadata": {
        "id": "PSx9atu2YklI"
      }
    },
    {
      "cell_type": "markdown",
      "source": [
        "The chart displays the distribution of app ratings.  The most frequent rating appears to be around 4.3, indicating that a significant portion of apps in the dataset receive this rating.  There are fewer apps with very low or very high ratings, suggesting a concentration of apps around the average rating.  The distribution might not be perfectly normal, and it will be informative to explore further the reasons for this distribution, and what factors influence app ratings.\n"
      ],
      "metadata": {
        "id": "qqPWxBa94Osx"
      }
    },
    {
      "cell_type": "markdown",
      "source": [
        "##### 3. Will the gained insights help creating a positive business impact?\n",
        "Are there any insights that lead to negative growth? Justify with specific reason."
      ],
      "metadata": {
        "id": "-JiQyfWJYklI"
      }
    },
    {
      "cell_type": "markdown",
      "source": [
        "Answer Here"
      ],
      "metadata": {
        "id": "BcBbebzrYklV"
      }
    },
    {
      "cell_type": "markdown",
      "source": [
        "Yes, understanding the distribution of app ratings can have a positive business impact.  A high concentration of apps with lower ratings might signal areas for improvement in app development or marketing.  Conversely, a high number of apps with excellent ratings indicates successful strategies that can be emulated.  \n",
        " Negative growth could be indicated by a large number of apps with very low ratings (e.g., below 3 stars). This suggests user dissatisfaction and could lead to a decline in downloads, negative reviews, and ultimately, lower revenue for app developers.  Developers could analyze why apps in those categories are receiving poor ratings and modify their approach accordingly to improve user satisfaction.\n"
      ],
      "metadata": {
        "id": "RIctQkQ14Vve"
      }
    },
    {
      "cell_type": "markdown",
      "source": [
        "#### Chart - 3"
      ],
      "metadata": {
        "id": "EM7whBJCYoAo"
      }
    },
    {
      "cell_type": "code",
      "source": [
        "# Chart - 3 visualization code\n",
        "plt.figure(figsize=(10, 6))\n",
        "sns.boxplot(x='Type', y='Rating', data=df)\n",
        "plt.title('Rating Distribution by App Type')\n",
        "plt.xlabel('App Type')\n",
        "plt.ylabel('Rating')\n",
        "plt.show()"
      ],
      "metadata": {
        "id": "t6GMdE67YoAp"
      },
      "execution_count": null,
      "outputs": []
    },
    {
      "cell_type": "markdown",
      "source": [
        "##### 1. Why did you pick the specific chart?"
      ],
      "metadata": {
        "id": "fge-S5ZAYoAp"
      }
    },
    {
      "cell_type": "markdown",
      "source": [
        "Answer Here."
      ],
      "metadata": {
        "id": "5dBItgRVYoAp"
      }
    },
    {
      "cell_type": "markdown",
      "source": [
        "I chose a box plot to compare the distribution of app ratings for free and paid apps. Box plots are excellent for visualizing the median, quartiles, and potential outliers within different groups.  This allows for a quick comparison of the central tendency and spread of rating values for each app type (free vs. paid).  It's much easier to see the overall distribution and any significant differences between the two types using a box plot than with other chart types.\n"
      ],
      "metadata": {
        "id": "6jy8NqrG4v0w"
      }
    },
    {
      "cell_type": "markdown",
      "source": [
        "##### 2. What is/are the insight(s) found from the chart?"
      ],
      "metadata": {
        "id": "85gYPyotYoAp"
      }
    },
    {
      "cell_type": "markdown",
      "source": [
        "Answer Here"
      ],
      "metadata": {
        "id": "4jstXR6OYoAp"
      }
    },
    {
      "cell_type": "markdown",
      "source": [
        "The box plot shows the distribution of ratings for free and paid apps.  There may not be a substantial difference in the median ratings between free and paid apps, but there could be a difference in the spread or presence of outliers. The plot helps us visually compare these aspects.  Further statistical analysis would help quantify the difference, if any.\n"
      ],
      "metadata": {
        "id": "GDxr7ZJ44yuP"
      }
    },
    {
      "cell_type": "markdown",
      "source": [
        "##### 3. Will the gained insights help creating a positive business impact?\n",
        "Are there any insights that lead to negative growth? Justify with specific reason."
      ],
      "metadata": {
        "id": "RoGjAbkUYoAp"
      }
    },
    {
      "cell_type": "markdown",
      "source": [
        "Answer Here"
      ],
      "metadata": {
        "id": "zfJ8IqMcYoAp"
      }
    },
    {
      "cell_type": "markdown",
      "source": [
        "Yes, the insights can inform business decisions. For example, if paid apps consistently receive higher ratings, it could justify a pricing strategy.  Conversely, if free apps have a wider spread and more outliers (very low or high ratings), developers might consider strategies to improve the quality or consistency of free offerings to improve user satisfaction.  Negative growth could arise if user satisfaction is low for paid apps. Developers would then need to improve their apps or perhaps consider a lower price point or in-app purchases to drive customer satisfaction and revenue.\n"
      ],
      "metadata": {
        "id": "EOSFsNAL415_"
      }
    },
    {
      "cell_type": "markdown",
      "source": [
        "#### Chart - 4"
      ],
      "metadata": {
        "id": "4Of9eVA-YrdM"
      }
    },
    {
      "cell_type": "code",
      "source": [
        "pd.read_sql('''\n",
        "select Type,count(*) from Play_store\n",
        "group by Type\n",
        "\n",
        "\n",
        "  ''',conn)"
      ],
      "metadata": {
        "id": "pwizjFWxrrGL"
      },
      "execution_count": null,
      "outputs": []
    },
    {
      "cell_type": "code",
      "source": [
        "# Chart - 4 visualization code\n",
        "plt.figure(figsize=(8, 6))\n",
        "sns.countplot(x='Type', data=df)\n",
        "plt.title('Distribution of Free vs. Paid Apps')\n",
        "plt.xlabel('App Type')\n",
        "plt.ylabel('Number of Apps')\n",
        "plt.show()"
      ],
      "metadata": {
        "id": "irlUoxc8YrdO"
      },
      "execution_count": null,
      "outputs": []
    },
    {
      "cell_type": "markdown",
      "source": [
        "##### 1. Why did you pick the specific chart?"
      ],
      "metadata": {
        "id": "iky9q4vBYrdO"
      }
    },
    {
      "cell_type": "markdown",
      "source": [
        "Answer Here."
      ],
      "metadata": {
        "id": "aJRCwT6DYrdO"
      }
    },
    {
      "cell_type": "markdown",
      "source": [
        "I chose a countplot to visualize the distribution of free versus paid apps because it effectively displays the frequency of each app type (free or paid) in the dataset.  A countplot is a straightforward way to compare the proportions of different categories within a single variable.  It quickly reveals whether there are significantly more free apps than paid apps or vice versa, providing a clear picture of the overall distribution.\n"
      ],
      "metadata": {
        "id": "ctJDdrZY5CIr"
      }
    },
    {
      "cell_type": "markdown",
      "source": [
        "##### 2. What is/are the insight(s) found from the chart?"
      ],
      "metadata": {
        "id": "F6T5p64dYrdO"
      }
    },
    {
      "cell_type": "markdown",
      "source": [
        "Answer Here"
      ],
      "metadata": {
        "id": "Xx8WAJvtYrdO"
      }
    },
    {
      "cell_type": "markdown",
      "source": [
        "The chart shows the distribution of free vs. paid apps.  The vast majority of apps in the dataset are free.  There are significantly fewer paid apps. This suggests that the market is dominated by free apps, and developers may use monetization strategies like in-app purchases or advertisements instead of charging a direct price for the app.\n"
      ],
      "metadata": {
        "id": "QQYP2tM45HFk"
      }
    },
    {
      "cell_type": "markdown",
      "source": [
        "##### 3. Will the gained insights help creating a positive business impact?\n",
        "Are there any insights that lead to negative growth? Justify with specific reason."
      ],
      "metadata": {
        "id": "y-Ehk30pYrdP"
      }
    },
    {
      "cell_type": "markdown",
      "source": [
        "Answer Here"
      ],
      "metadata": {
        "id": "jLNxxz7MYrdP"
      }
    },
    {
      "cell_type": "markdown",
      "source": [
        "Yes, this insight can inform business strategies. The dominance of free apps suggests that developers might need to implement monetization strategies for their free apps.\n",
        "\n",
        "Negative growth could occur if a developer relies heavily on a paid app model in a market saturated with free alternatives. Users are more likely to opt for free apps, potentially leading to low adoption rates, limited revenue, and ultimately, negative growth for the paid app.  The insight highlights the importance of either offering highly competitive features for paid apps or developing effective in-app purchase or advertising strategies for free apps."
      ],
      "metadata": {
        "id": "JJ3p6KS-5OBp"
      }
    },
    {
      "cell_type": "markdown",
      "source": [
        "#### Chart - 5"
      ],
      "metadata": {
        "id": "bamQiAODYuh1"
      }
    },
    {
      "cell_type": "code",
      "source": [
        "pd.read_sql('''\n",
        "select 'Content Rating', count (*) as App_count from Play_store\n",
        "group by 'Content Rating'\n",
        "order by App_count desc\n",
        "''', conn)"
      ],
      "metadata": {
        "id": "dHrObA4Y87nG"
      },
      "execution_count": null,
      "outputs": []
    },
    {
      "cell_type": "code",
      "source": [
        "# Chart - 5 visualization code\n",
        "plt.figure(figsize=(8, 6))\n",
        "sns.countplot(x='Content Rating', data=df)\n",
        "plt.title('Distribution of App Content Ratings')\n",
        "plt.xlabel('Content Rating')\n",
        "plt.ylabel('Number of Apps')\n",
        "plt.show()"
      ],
      "metadata": {
        "id": "TIJwrbroYuh3"
      },
      "execution_count": null,
      "outputs": []
    },
    {
      "cell_type": "markdown",
      "source": [
        "##### 1. Why did you pick the specific chart?"
      ],
      "metadata": {
        "id": "QHF8YVU7Yuh3"
      }
    },
    {
      "cell_type": "markdown",
      "source": [
        "Answer Here."
      ],
      "metadata": {
        "id": "dcxuIMRPYuh3"
      }
    },
    {
      "cell_type": "markdown",
      "source": [
        "I chose a countplot to visualize the distribution of app content ratings because it effectively displays the frequency of each content rating category (e.g., Everyone, Teen, Mature 17+).  A countplot is ideal for showing the frequency of categorical data, making it easy to see which content ratings are most common in the dataset.  It quickly reveals the proportions of apps targeted at different age groups.\n"
      ],
      "metadata": {
        "id": "3VzO0lrN5l7n"
      }
    },
    {
      "cell_type": "markdown",
      "source": [
        "##### 2. What is/are the insight(s) found from the chart?"
      ],
      "metadata": {
        "id": "GwzvFGzlYuh3"
      }
    },
    {
      "cell_type": "markdown",
      "source": [
        "Answer Here"
      ],
      "metadata": {
        "id": "uyqkiB8YYuh3"
      }
    },
    {
      "cell_type": "markdown",
      "source": [
        "The chart illustrates the prevalence of different content rating categories for apps.  The \"Everyone\" rating appears to be the most common, indicating a large number of apps suitable for all ages. Other ratings such as \"Teen\" and \"Mature 17+\" have a noticeable presence, while categories like \"Adults only 18+\" are relatively less frequent. This provides insights into the target audience for the apps on the Google Play Store.\n"
      ],
      "metadata": {
        "id": "ZZt5Qp8e5rws"
      }
    },
    {
      "cell_type": "markdown",
      "source": [
        "##### 3. Will the gained insights help creating a positive business impact?\n",
        "Are there any insights that lead to negative growth? Justify with specific reason."
      ],
      "metadata": {
        "id": "qYpmQ266Yuh3"
      }
    },
    {
      "cell_type": "markdown",
      "source": [
        "Answer Here"
      ],
      "metadata": {
        "id": "_WtzZ_hCYuh4"
      }
    },
    {
      "cell_type": "markdown",
      "source": [
        "Yes, understanding the content rating distribution can have several business impacts.  Developers can use this information to target their app marketing toward the appropriate age demographics.  For example, a game designed for teens should be primarily marketed to teenagers.\n",
        "\n",
        " Potential negative growth could arise if developers misjudge the target audience.  For instance, if an app intended for children has a \"Mature 17+\" rating, it would likely limit its reach and visibility to the intended audience. Similarly, marketing an app with an \"Everyone\" rating to teenagers, when the app is geared toward adults, might result in low engagement and user satisfaction. Developers must ensure their app's rating accurately reflects its content to attract the right users."
      ],
      "metadata": {
        "id": "hNNcBk7O5veC"
      }
    },
    {
      "cell_type": "markdown",
      "source": [
        "#### Chart - 6"
      ],
      "metadata": {
        "id": "OH-pJp9IphqM"
      }
    },
    {
      "cell_type": "code",
      "source": [
        "# Chart - 6 visualization code\n",
        "plt.figure(figsize=(10, 6))\n",
        "sns.scatterplot(x='Reviews', y='Installs', data=df)\n",
        "plt.title('Relationship between Reviews and Installs')\n",
        "plt.xlabel('Number of Reviews')\n",
        "plt.ylabel('Number of Installs')\n",
        "plt.show()"
      ],
      "metadata": {
        "id": "kuRf4wtuphqN"
      },
      "execution_count": null,
      "outputs": []
    },
    {
      "cell_type": "markdown",
      "source": [
        "##### 1. Why did you pick the specific chart?"
      ],
      "metadata": {
        "id": "bbFf2-_FphqN"
      }
    },
    {
      "cell_type": "markdown",
      "source": [
        "Answer Here."
      ],
      "metadata": {
        "id": "loh7H2nzphqN"
      }
    },
    {
      "cell_type": "markdown",
      "source": [
        "I chose a scatter plot to visualize the relationship between the number of reviews and the number of installs for apps. Scatter plots are excellent for showing the correlation between two continuous variables.  In this case, we want to see if there's a tendency for apps with more reviews to also have more installs, and a scatter plot makes it easy to identify any patterns or trends in this relationship.  Other chart types wouldn't effectively display the relationship between these two continuous variables.\n"
      ],
      "metadata": {
        "id": "bnEQ4JbJ6Uhe"
      }
    },
    {
      "cell_type": "markdown",
      "source": [
        "##### 2. What is/are the insight(s) found from the chart?"
      ],
      "metadata": {
        "id": "_ouA3fa0phqN"
      }
    },
    {
      "cell_type": "markdown",
      "source": [
        "Answer Here"
      ],
      "metadata": {
        "id": "VECbqPI7phqN"
      }
    },
    {
      "cell_type": "markdown",
      "source": [
        "The scatter plot reveals a positive correlation between the number of reviews and the number of installs.  Apps with a higher number of reviews tend to have a higher number of installs. This suggests that positive user engagement (as measured by reviews) is linked to higher app popularity (as measured by installations).  However, the correlation isn't perfect, meaning other factors influence app installs.\n"
      ],
      "metadata": {
        "id": "qucYi34y6aPH"
      }
    },
    {
      "cell_type": "markdown",
      "source": [
        "##### 3. Will the gained insights help creating a positive business impact?\n",
        "Are there any insights that lead to negative growth? Justify with specific reason."
      ],
      "metadata": {
        "id": "Seke61FWphqN"
      }
    },
    {
      "cell_type": "markdown",
      "source": [
        "Answer Here"
      ],
      "metadata": {
        "id": "DW4_bGpfphqN"
      }
    },
    {
      "cell_type": "markdown",
      "source": [
        "Yes, understanding this relationship can have a positive business impact.  App developers can focus on strategies to increase positive reviews. This could involve improving the app's quality, responsiveness to user feedback, and overall user experience.  More reviews could lead to higher visibility and installs, which translates to more users, and potentially higher revenue (through ads or in-app purchases).\n",
        "\n",
        "Negative growth could arise if developers neglect user feedback or if the quality of the app declines despite a high number of reviews.  Users might leave negative reviews if an app's quality deteriorates after an initial period of positive engagement.  An app with a large number of negative reviews, even if it previously had high install numbers, will hurt its visibility and standing in the app store, potentially leading to a loss in users and revenue.\n"
      ],
      "metadata": {
        "id": "Z3pYVOIA6dLa"
      }
    },
    {
      "cell_type": "markdown",
      "source": [
        "#### Chart - 7"
      ],
      "metadata": {
        "id": "PIIx-8_IphqN"
      }
    },
    {
      "cell_type": "code",
      "source": [
        "pd.read_sql('''\n",
        "select Category,count(*) as Number_of_Installs  from Play_store\n",
        "group by Category\n",
        "order by Number_of_Installs desc\n",
        "''', conn)"
      ],
      "metadata": {
        "id": "U3wgtFjeF7WZ"
      },
      "execution_count": null,
      "outputs": []
    },
    {
      "cell_type": "code",
      "source": [
        "# Chart - 7 visualization code\n",
        "plt.figure(figsize=(20,6))\n",
        "sns.histplot(df['Installs'], bins=20)\n",
        "plt.title('Distribution of App Installs')\n",
        "plt.xlabel('Number of Installs')\n",
        "plt.ylabel('Frequency')\n",
        "plt.show()"
      ],
      "metadata": {
        "id": "lqAIGUfyphqO"
      },
      "execution_count": null,
      "outputs": []
    },
    {
      "cell_type": "markdown",
      "source": [
        "##### 1. Why did you pick the specific chart?"
      ],
      "metadata": {
        "id": "t27r6nlMphqO"
      }
    },
    {
      "cell_type": "markdown",
      "source": [
        "Answer Here."
      ],
      "metadata": {
        "id": "iv6ro40sphqO"
      }
    },
    {
      "cell_type": "markdown",
      "source": [
        "I picked a histogram to visualize the distribution of app installs because it effectively shows the frequency of different installation ranges.  Histograms are ideal for displaying the distribution of continuous numerical data, providing a clear view of the central tendency, spread, and skewness of the 'Installs' variable.  Other chart types wouldn't be as effective for visualizing this type of distribution.\n"
      ],
      "metadata": {
        "id": "Zh248jGK6pOx"
      }
    },
    {
      "cell_type": "markdown",
      "source": [
        "##### 2. What is/are the insight(s) found from the chart?"
      ],
      "metadata": {
        "id": "r2jJGEOYphqO"
      }
    },
    {
      "cell_type": "markdown",
      "source": [
        "Answer Here"
      ],
      "metadata": {
        "id": "Po6ZPi4hphqO"
      }
    },
    {
      "cell_type": "markdown",
      "source": [
        "The histogram shows the distribution of app installs.  The majority of apps have a relatively low number of installs, with the distribution skewed heavily to the right.  There are a few apps with extremely high numbers of installs, indicating that while most apps have limited downloads, a small number of apps achieve widespread popularity.  This suggests a highly uneven distribution in terms of app popularity and success.\n"
      ],
      "metadata": {
        "id": "i81tfjNN6ucd"
      }
    },
    {
      "cell_type": "markdown",
      "source": [
        "##### 3. Will the gained insights help creating a positive business impact?\n",
        "Are there any insights that lead to negative growth? Justify with specific reason."
      ],
      "metadata": {
        "id": "b0JNsNcRphqO"
      }
    },
    {
      "cell_type": "markdown",
      "source": [
        "Answer Here"
      ],
      "metadata": {
        "id": "xvSq8iUTphqO"
      }
    },
    {
      "cell_type": "markdown",
      "source": [
        "Yes, understanding this install distribution can inform business decisions.  Developers can identify successful strategies used by apps with high install numbers and try to replicate them for their own apps.  They might also examine why some app categories are more successful than others in terms of attracting users.\n",
        "\n",
        " Negative growth could arise if developers fail to understand market trends.  For instance, if an app category becomes saturated with similar apps, and new apps in that category do not achieve a critical mass of installs, it could signal negative growth.  The developers need to continuously innovate, improve their apps, and identify new niches to remain competitive and generate positive growth."
      ],
      "metadata": {
        "id": "kM_ctdwd66cY"
      }
    },
    {
      "cell_type": "markdown",
      "source": [
        "#### Chart - 8"
      ],
      "metadata": {
        "id": "BZR9WyysphqO"
      }
    },
    {
      "cell_type": "code",
      "source": [
        "# Chart - 8 visualization code\n",
        "plt.figure(figsize=(10, 6))\n",
        "sns.boxplot(x='Type', y='Price', data=df)\n",
        "plt.title('Price Distribution by App Type')\n",
        "plt.xlabel('App Type')\n",
        "plt.ylabel('Price')\n",
        "plt.yscale('log')\n",
        "plt.show()\n",
        "\n",
        "\n"
      ],
      "metadata": {
        "id": "TdPTWpAVphqO"
      },
      "execution_count": null,
      "outputs": []
    },
    {
      "cell_type": "markdown",
      "source": [
        "##### 1. Why did you pick the specific chart?"
      ],
      "metadata": {
        "id": "jj7wYXLtphqO"
      }
    },
    {
      "cell_type": "markdown",
      "source": [
        "Answer Here."
      ],
      "metadata": {
        "id": "Ob8u6rCTphqO"
      }
    },
    {
      "cell_type": "markdown",
      "source": [
        "I chose box plots and histograms to analyze the distribution of price and downloads/ratings for paid apps."
      ],
      "metadata": {
        "id": "BglbXFJ_HrfX"
      }
    },
    {
      "cell_type": "markdown",
      "source": [
        "##### 2. What is/are the insight(s) found from the chart?"
      ],
      "metadata": {
        "id": "eZrbJ2SmphqO"
      }
    },
    {
      "cell_type": "markdown",
      "source": [
        "Answer Here"
      ],
      "metadata": {
        "id": "mZtgC_hjphqO"
      }
    },
    {
      "cell_type": "markdown",
      "source": [
        "The box plot shows the price distribution for paid apps"
      ],
      "metadata": {
        "id": "uwxq40nmIL-j"
      }
    },
    {
      "cell_type": "markdown",
      "source": [
        "##### 3. Will the gained insights help creating a positive business impact?\n",
        "Are there any insights that lead to negative growth? Justify with specific reason."
      ],
      "metadata": {
        "id": "rFu4xreNphqO"
      }
    },
    {
      "cell_type": "markdown",
      "source": [
        "Answer Here"
      ],
      "metadata": {
        "id": "ey_0qi68phqO"
      }
    },
    {
      "cell_type": "markdown",
      "source": [
        "Insights on price distribution for paid apps can help developers strategize pricing for their apps. Developers could consider if their price point is competitive or if it might deter downloads. If many paid apps have low install numbers, it might be an indicator of high price points negatively impacting downloads"
      ],
      "metadata": {
        "id": "69saRlJKIXND"
      }
    },
    {
      "cell_type": "markdown",
      "source": [
        "#### Chart - 9"
      ],
      "metadata": {
        "id": "YJ55k-q6phqO"
      }
    },
    {
      "cell_type": "code",
      "source": [
        "# Converting 'Installs' column to numeric, handling errors\n",
        "df['Installs'] = df['Installs'].astype(str).str.replace(',', '', regex=False).str.replace('+', '', regex=False)\n",
        "df['Installs'] = pd.to_numeric(df['Installs'], errors='coerce')"
      ],
      "metadata": {
        "id": "4nyG79OiI0jm"
      },
      "execution_count": null,
      "outputs": []
    },
    {
      "cell_type": "code",
      "source": [
        "# Group data by date and sum installs for each date\n",
        "# Assuming 'Last Updated' column represents the download date.\n",
        "# Converting 'Last Updated' column to datetime objects\n",
        "df['Last Updated'] = pd.to_datetime(df['Last Updated'])"
      ],
      "metadata": {
        "id": "YDq04oNOI3q4"
      },
      "execution_count": null,
      "outputs": []
    },
    {
      "cell_type": "code",
      "source": [
        "install_counts = df.groupby('Last Updated')['Installs'].sum()"
      ],
      "metadata": {
        "id": "nmF0puqcI6XB"
      },
      "execution_count": null,
      "outputs": []
    },
    {
      "cell_type": "code",
      "source": [
        "# Chart - 9 visualization code\n",
        "plt.figure(figsize=(12, 6))\n",
        "plt.plot(install_counts.index, install_counts.values)\n",
        "plt.xlabel('Date')\n",
        "plt.ylabel('Total Installs')\n",
        "plt.title('Time Series Analysis of App Installs')\n",
        "plt.xticks(rotation=45)\n",
        "plt.tight_layout()\n",
        "plt.show()"
      ],
      "metadata": {
        "id": "B2aS4O1ophqO"
      },
      "execution_count": null,
      "outputs": []
    },
    {
      "cell_type": "markdown",
      "source": [
        "##### 1. Why did you pick the specific chart?"
      ],
      "metadata": {
        "id": "gCFgpxoyphqP"
      }
    },
    {
      "cell_type": "markdown",
      "source": [
        "Answer Here."
      ],
      "metadata": {
        "id": "TVxDimi2phqP"
      }
    },
    {
      "cell_type": "markdown",
      "source": [
        "I chose a line plot to visualize the total app installs over time. A line plot is effective for showing trends in data over a continuous interval (time in this case). It allows us to easily spot patterns, seasonality, or overall growth/decline in the number of app installs.  Other chart types, like scatter plots or bar charts, would not be as effective in illustrating trends over time.\n"
      ],
      "metadata": {
        "id": "NLW_0ez9BpDd"
      }
    },
    {
      "cell_type": "markdown",
      "source": [
        "##### 2. What is/are the insight(s) found from the chart?"
      ],
      "metadata": {
        "id": "OVtJsKN_phqQ"
      }
    },
    {
      "cell_type": "markdown",
      "source": [
        "Answer Here"
      ],
      "metadata": {
        "id": "ngGi97qjphqQ"
      }
    },
    {
      "cell_type": "markdown",
      "source": [
        "The chart displays the total number of app installs over time.  Key insights could include:\n",
        "\n",
        "* **Trends:**  Is there an overall increasing, decreasing, or fluctuating trend in installs?  Are there any seasonal patterns?\n",
        "* **Growth Spikes:** Are there specific dates or periods with significant increases in installs?  These spikes might correlate with marketing campaigns, new features, or external events.\n",
        "* **Install Rate:** The slope of the line indicates the rate of new installs over time.  A steeper slope indicates faster growth.\n",
        "* **Plateaus or Declines:** Are there periods of stable install numbers or decreases?  These could signal a loss of user interest or the need for app improvements.\n",
        "\n",
        "Analyzing these aspects can inform business decisions regarding app marketing, feature development, and resource allocation.\n"
      ],
      "metadata": {
        "id": "ak-G9koTByE7"
      }
    },
    {
      "cell_type": "markdown",
      "source": [
        "##### 3. Will the gained insights help creating a positive business impact?\n",
        "Are there any insights that lead to negative growth? Justify with specific reason."
      ],
      "metadata": {
        "id": "lssrdh5qphqQ"
      }
    },
    {
      "cell_type": "markdown",
      "source": [
        "Answer Here"
      ],
      "metadata": {
        "id": "tBpY5ekJphqQ"
      }
    },
    {
      "cell_type": "markdown",
      "source": [
        "The time series plot of total app installs over time can reveal trends and seasonality in app downloads.  A positive trend indicates growing app popularity, while a negative trend suggests declining interest. Seasonality could reveal periods of high or low activity, perhaps linked to holidays, special events or marketing campaigns.\n",
        "\n",
        "# Positive business impact:\n",
        " *Trend Analysis:*  An upward trend suggests effective marketing and app development strategies.  Developers can maintain or amplify these strategies. A downward trend signals a need to re-evaluate strategies, possibly through feature updates or marketing campaigns.\n",
        "\n",
        "*Seasonality:* Recognizing seasonal patterns allows for optimized marketing efforts during peak periods and resource allocation during slow periods.\n",
        "\n",
        "*Forecasting:*  Analyzing the trend can enable prediction of future installs, helping developers plan for resource allocation, server capacity, and marketing budgets.\n",
        "\n",
        "# Negative growth indicators:\n",
        " *Consistent downward trend:*  A prolonged decrease in installs could indicate user dissatisfaction with the app, increased competition, or ineffective marketing. This could translate to a loss in users and revenue.  Developers need to identify the cause (e.g., negative reviews, bug reports, competitor analysis) and implement corrective measures.\n",
        "\n",
        "*Sudden drops:*Unexpected dips in installs may signify a critical bug, negative publicity, or a sudden shift in user preferences. Developers must quickly react to address the issue and regain user trust.\n",
        "\n",
        "*Failure to capitalize on seasonal trends:* Not increasing marketing efforts during peak seasons or failing to understand seasonal user behavior could lead to missed opportunities and reduced growth."
      ],
      "metadata": {
        "id": "D9ypZB8DB7WJ"
      }
    },
    {
      "cell_type": "markdown",
      "source": [
        "#### Chart - 10"
      ],
      "metadata": {
        "id": "U2RJ9gkRphqQ"
      }
    },
    {
      "cell_type": "code",
      "source": [
        "# Chart - 10 visualization code\n",
        "plt.figure(figsize=(10, 6))\n",
        "sns.scatterplot(x='Reviews', y='Rating', data=df)\n",
        "plt.title('Correlation between Average Rating and Review Count')\n",
        "plt.xlabel('Review Count')\n",
        "plt.ylabel('Average Rating')\n",
        "plt.show()\n",
        "\n",
        "correlation = df['Reviews'].corr(df['Rating'])\n",
        "print(f\"Correlation coefficient between Reviews and Rating: {correlation}\")"
      ],
      "metadata": {
        "id": "GM7a4YP4phqQ"
      },
      "execution_count": null,
      "outputs": []
    },
    {
      "cell_type": "markdown",
      "source": [
        "##### 1. Why did you pick the specific chart?"
      ],
      "metadata": {
        "id": "1M8mcRywphqQ"
      }
    },
    {
      "cell_type": "markdown",
      "source": [
        "Answer Here."
      ],
      "metadata": {
        "id": "8agQvks0phqQ"
      }
    },
    {
      "cell_type": "markdown",
      "source": [
        "I chose a scatter plot to visualize the relationship between the number of reviews and the average rating of an app.  A scatter plot effectively shows the correlation between two continuous variables. In this case, it helps to determine if there is a correlation between the number of reviews an app receives and its average rating.  Other chart types would not be as suitable to show the relationship between these two continuous variables.\n"
      ],
      "metadata": {
        "id": "JWHKN3QsCxmb"
      }
    },
    {
      "cell_type": "markdown",
      "source": [
        "##### 2. What is/are the insight(s) found from the chart?"
      ],
      "metadata": {
        "id": "tgIPom80phqQ"
      }
    },
    {
      "cell_type": "markdown",
      "source": [
        "Answer Here"
      ],
      "metadata": {
        "id": "Qp13pnNzphqQ"
      }
    },
    {
      "cell_type": "markdown",
      "source": [
        "The scatter plot visualizes the relationship between the number of reviews an app receives and its average rating.  A positive correlation suggests that apps with more reviews tend to have higher average ratings.  However, the strength of this correlation (as indicated by the correlation coefficient) is important to consider. A weak correlation indicates that while there might be a general trend, the relationship isn't very strong, and many other factors could influence the app's rating.\n",
        "\n",
        "The correlation coefficient quantifies the strength and direction of this linear relationship.  A value close to +1 signifies a strong positive correlation, while a value close to 0 indicates a weak or no linear relationship.  Negative values would suggest a negative correlation (more reviews, lower ratings), which is unlikely in this context.  The actual value of the coefficient printed by your code will provide the precise measure of correlation.\n"
      ],
      "metadata": {
        "id": "h5xVtzLeC5Bj"
      }
    },
    {
      "cell_type": "markdown",
      "source": [
        "##### 3. Will the gained insights help creating a positive business impact?\n",
        "Are there any insights that lead to negative growth? Justify with specific reason."
      ],
      "metadata": {
        "id": "JMzcOPDDphqR"
      }
    },
    {
      "cell_type": "markdown",
      "source": [
        "Answer Here"
      ],
      "metadata": {
        "id": "R4Ka1PC2phqR"
      }
    },
    {
      "cell_type": "markdown",
      "source": [
        "#Positive Business Impact:\n",
        " *Prioritize apps with high review counts and good ratings*: This insight may help to identify successful apps and understand their strategies.\n",
        " *Focus on user feedback*: Encourage users to leave reviews and actively monitor them.  Address issues and improve the app based on user feedback to maintain or increase the app's rating.\n",
        "*Marketing*: Highlight ratings and review counts in marketing materials.\n",
        "\n",
        "#Negative Growth Insights:\n",
        " *Low ratings despite high review counts*:  A large number of reviews with low ratings indicate issues that need immediate attention. Ignoring negative feedback can lead to user churn.\n",
        "*Ignoring user reviews*: A lack of response to user reviews can result in users uninstalling the app and leaving negative reviews, impacting the app's visibility and future downloads.\n"
      ],
      "metadata": {
        "id": "55mbdY-EDRpa"
      }
    },
    {
      "cell_type": "markdown",
      "source": [
        "#### Chart - 11 - Pair Plot"
      ],
      "metadata": {
        "id": "q29F0dvdveiT"
      }
    },
    {
      "cell_type": "code",
      "source": [
        "# Pair Plot visualization code\n",
        "sns.pairplot(df)"
      ],
      "metadata": {
        "id": "o58-TEIhveiU"
      },
      "execution_count": null,
      "outputs": []
    },
    {
      "cell_type": "markdown",
      "source": [
        "##### 1. Why did you pick the specific chart?"
      ],
      "metadata": {
        "id": "EXh0U9oCveiU"
      }
    },
    {
      "cell_type": "markdown",
      "source": [
        "Answer Here."
      ],
      "metadata": {
        "id": "eMmPjTByveiU"
      }
    },
    {
      "cell_type": "markdown",
      "source": [
        "I chose a pair plot because it provides a comprehensive overview of the relationships between multiple numerical variables in the dataset.  It creates a matrix of scatter plots, where each plot shows the relationship between two variables.  The diagonal of the matrix displays the distribution of each individual variable (often as a histogram or kernel density estimate).  This allows for quick identification of correlations, clusters, and outliers across all numerical pairs within the dataset.  Other visualization techniques would not offer this complete pairwise comparison as concisely.\n"
      ],
      "metadata": {
        "id": "0B97sqe7Dpsj"
      }
    },
    {
      "cell_type": "markdown",
      "source": [
        "##### 2. What is/are the insight(s) found from the chart?"
      ],
      "metadata": {
        "id": "22aHeOlLveiV"
      }
    },
    {
      "cell_type": "markdown",
      "source": [
        "Answer Here"
      ],
      "metadata": {
        "id": "uPQ8RGwHveiV"
      }
    },
    {
      "cell_type": "markdown",
      "source": [
        "A positive correlation between 'Reviews' and 'Installs' suggests that apps with more reviews tend to have more installs.\n",
        " * The relationship between 'Price' and 'Installs' could reveal if paid apps are less popular.\n",
        "* The distribution of 'Rating' can give an idea of the overall user satisfaction.\n",
        " * Patterns in the 'Installs' distribution might indicate the skewness of app popularity\n"
      ],
      "metadata": {
        "id": "HnkKQTHUD1T_"
      }
    },
    {
      "cell_type": "markdown",
      "source": [
        "## **5. Solution to Business Objective**"
      ],
      "metadata": {
        "id": "JcMwzZxoAimU"
      }
    },
    {
      "cell_type": "markdown",
      "source": [
        "#### What do you suggest the client to achieve Business Objective ?\n",
        "Explain Briefly."
      ],
      "metadata": {
        "id": "8G2x9gOozGDZ"
      }
    },
    {
      "cell_type": "markdown",
      "source": [
        "Answer Here."
      ],
      "metadata": {
        "id": "pASKb0qOza21"
      }
    },
    {
      "cell_type": "markdown",
      "source": [
        "Based on the provided analysis,\n",
        "\n",
        "# 1. Content Rating Optimization:\n",
        "- Ensure accurate content ratings for all apps. Mismatched ratings can limit visibility and user acquisition.\n",
        "- Analyze the success of apps within each rating category to identify opportunities.\n",
        "- Tailor marketing strategies for each content rating to the correct demographics.\n",
        "\n",
        "\n",
        "# 2. Enhance User Engagement for Increased Installs:\n",
        " - Prioritize app quality and user experience. Focus on improvements based on user reviews.\n",
        " - Actively respond to user feedback and address issues promptly.\n",
        " - Implement strategies to encourage users to leave positive reviews.\n",
        "\n",
        "\n",
        "# 3. Optimize App Categories:\n",
        " - Investigate popular app categories with high install numbers.\n",
        " - Analyze the strategies employed by successful apps in these categories.\n",
        " - Determine if there are unsaturated categories with potential for growth.\n",
        "\n",
        "\n",
        "# 4. Price Optimization for Paid Apps:\n",
        " - Analyze price points of paid apps and their impact on installs.\n",
        "- Consider whether current pricing is competitive and if it deters potential users.\n",
        "- Research market trends and competitor pricing to strategize appropriately.\n",
        "\n",
        "\n",
        "# 5. Time Series Analysis of Installs:\n",
        " - Regularly monitor app install trends over time.\n",
        " - Identify growth spikes and potential reasons for them.\n",
        "- Analyze dips in installs and take immediate corrective action.\n",
        " - Use trends to forecast future installs and optimize resource allocation.\n",
        "\n",
        "\n",
        "# 6. Monitor App Ratings and Reviews:\n",
        " - Track the correlation between reviews and ratings. Address negative feedback to improve the app.\n",
        " - Encourage users to leave reviews and actively manage online reputation.\n",
        "\n",
        "\n",
        "# 7. Utilize Pair Plots for Comprehensive Analysis:\n",
        "- Identify correlation patterns between different numerical variables (e.g., reviews, installs, price).\n",
        "- Use the insights to develop a more holistic understanding of user behavior and app performance.\n",
        "- Continuously adjust development and marketing strategies based on the data observed in the pair plots."
      ],
      "metadata": {
        "id": "CPlAs2owESNU"
      }
    },
    {
      "cell_type": "markdown",
      "source": [
        "# **Conclusion**"
      ],
      "metadata": {
        "id": "gCX9965dhzqZ"
      }
    },
    {
      "cell_type": "markdown",
      "source": [
        "Write the conclusion here."
      ],
      "metadata": {
        "id": "Fjb1IsQkh3yE"
      }
    },
    {
      "cell_type": "markdown",
      "source": [
        " The analysis of the Google Play Store app data reveals key insights into user behavior and app performance. By focusing on user engagement, content rating optimization, strategic pricing, and timely response to reviews, developers can significantly improve app visibility, attract more users, and achieve positive business growth.Continuous monitoring of app installs, ratings, and reviews is crucial for maintaining a competitive edge and adapting  to market trends. The insights derived from various visualizations, including scatter plots, histograms, box plots, and time series analysis, provide a comprehensive understanding of the factors influencing app success, enabling data-driven decision-making for enhanced business impact.  Ignoring negative trends and user feedback can lead to negative growth, emphasizing the importance of a proactive approach to app development and marketing."
      ],
      "metadata": {
        "id": "j3zNDVt-Es64"
      }
    },
    {
      "cell_type": "markdown",
      "source": [
        "### ***Hurrah! You have successfully completed your EDA Capstone Project !!!***"
      ],
      "metadata": {
        "id": "gIfDvo9L0UH2"
      }
    }
  ]
}